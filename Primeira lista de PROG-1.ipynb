{
 "cells": [
  {
   "cell_type": "code",
   "execution_count": 2,
   "id": "22d3fdd3",
   "metadata": {},
   "outputs": [
    {
     "name": "stdout",
     "output_type": "stream",
     "text": [
      " Insira um numero de tres casas: 123\n",
      "algarismo da casa das dezenas:  2\n"
     ]
    }
   ],
   "source": [
    "#-------------------------------------------------\n",
    "\n",
    "#--------------  Algoritmo 23  -------------------\n",
    "\n",
    "#-------------------------------------------------\n",
    "\n",
    "a = int(input(\" Insira um numero de tres casas: \"))\n",
    "\n",
    "d = int(a % 100 / 10)\n",
    "\n",
    "print(\"algarismo da casa das dezenas: \", d)"
   ]
  },
  {
   "cell_type": "code",
   "execution_count": 3,
   "id": "d20d60bf",
   "metadata": {},
   "outputs": [
    {
     "name": "stdout",
     "output_type": "stream",
     "text": [
      "\n",
      "Insira dara no formato ddmmaa: 060900\n",
      " DIA 6\n",
      " MES 9\n",
      " ANO 0\n",
      "\n",
      "\n"
     ]
    }
   ],
   "source": [
    "#-------------------------------------------------\n",
    "\n",
    "#--------------  Algoritmo 25  -------------------\n",
    "\n",
    "#-------------------------------------------------\n",
    "\n",
    "\n",
    "data = int(input(\"\\nInsira dara no formato ddmmaa: \"))\n",
    "\n",
    "dia = int(data / 10000)\n",
    "mes = int(data % 10000 / 100)\n",
    "ano = int(data % 100)\n",
    "\n",
    "print(\" DIA\", dia)\n",
    "print(\" MES\", mes)\n",
    "print(\" ANO\", ano)\n",
    "print(\"\\n\")"
   ]
  },
  {
   "cell_type": "code",
   "execution_count": 16,
   "id": "7049bbc4",
   "metadata": {},
   "outputs": [
    {
     "name": "stdout",
     "output_type": "stream",
     "text": [
      "Insira um numero: 21\n",
      "\n",
      " sucessor do numero  21  é  o 22 e o antecessor é o 20\n",
      "\n",
      "\n"
     ]
    }
   ],
   "source": [
    "#-------------------------------------------------\n",
    "\n",
    "#--------------  Algoritmo 34  -------------------\n",
    "\n",
    "#-------------------------------------------------\n",
    "\n",
    "\n",
    "numero = int(input(\"Insira um numero: \"))\n",
    "\n",
    "ant = numero -1\n",
    "suc = numero +1\n",
    "\n",
    "print(\"\\n sucessor do numero \",numero,\" é  o\",\n",
    "      suc,\"e o antecessor é o\", ant)\n",
    "print(\"\\n\")"
   ]
  },
  {
   "cell_type": "code",
   "execution_count": 18,
   "id": "8561c989",
   "metadata": {},
   "outputs": [
    {
     "name": "stdout",
     "output_type": "stream",
     "text": [
      "Entre com um número com ponto3.2\n",
      "A terça parte é:  1.0666666666666667\n"
     ]
    }
   ],
   "source": [
    "#-------------------------------------------------\n",
    "\n",
    "#--------------  Algoritmo 38  -------------------\n",
    "\n",
    "#-------------------------------------------------\n",
    "\n",
    "num = float(input(\"Entre com um número com ponto\"))\n",
    "\n",
    "print(\"A terça parte é: \", num/3)"
   ]
  },
  {
   "cell_type": "code",
   "execution_count": 21,
   "id": "4f73e774",
   "metadata": {},
   "outputs": [
    {
     "name": "stdout",
     "output_type": "stream",
     "text": [
      "digite 1a nota: 10\n",
      "digite 2a nota: 5\n",
      "\n",
      "media: 7.5\n"
     ]
    }
   ],
   "source": [
    "#-------------------------------------------------\n",
    "\n",
    "#--------------  Algoritmo 39  -------------------\n",
    "\n",
    "#-------------------------------------------------\n",
    "\n",
    "nota1 = float(input(\"digite 1a nota: \"))\n",
    "nota2 = float(input(\"digite 2a nota: \"))\n",
    "\n",
    "media = (nota1+nota2)/2\n",
    "\n",
    "print(\"\\nmedia:\", media)"
   ]
  },
  {
   "cell_type": "code",
   "execution_count": 4,
   "id": "fcb0b218",
   "metadata": {},
   "outputs": [
    {
     "name": "stdout",
     "output_type": "stream",
     "text": [
      "entre com o dividendo:\n",
      "2\n",
      "entre com o divisor:\n",
      "2\n",
      "dividendo = 2\n",
      "divisor = 2\n",
      "quociente = 1.0\n",
      "resto = 0\n",
      "\n"
     ]
    }
   ],
   "source": [
    "#-------------------------------------------------\n",
    "\n",
    "#--------------  Algoritmo 40  -------------------\n",
    "\n",
    "#-------------------------------------------------\n",
    "\n",
    "dividendo = int(input(\"entre com o dividendo:\\n\"))\n",
    "divisor = int(input(\"entre com o divisor:\\n\"))\n",
    "quociente = dividendo / divisor\n",
    "resto = dividendo % divisor\n",
    "print (\"dividendo = {}\\ndivisor = {}\\nquociente = {}\\nresto = {}\\n\".format(dividendo,divisor,quociente,resto))"
   ]
  },
  {
   "cell_type": "code",
   "execution_count": 2,
   "id": "9cd2bd52",
   "metadata": {},
   "outputs": [
    {
     "name": "stdout",
     "output_type": "stream",
     "text": [
      "digite o primeiro número:\n",
      "2\n",
      "digite o segundo número:\n",
      "2\n",
      "digite o terceiro número:\n",
      "2\n",
      "digite o quarto número:\n",
      "2\n",
      "2.0\n"
     ]
    }
   ],
   "source": [
    "#-------------------------------------------------\n",
    "\n",
    "#--------------  Algoritmo 41  -------------------\n",
    "\n",
    "#-------------------------------------------------\n",
    "\n",
    "a = int(input(\"digite o primeiro número:\\n\"))\n",
    "b = int(input(\"digite o segundo número:\\n\"))\n",
    "c = int(input(\"digite o terceiro número:\\n\"))\n",
    "d = int(input(\"digite o quarto número:\\n\"))\n",
    "mediaP = (a+b*2+c*3+d*4)/10\n",
    "print(mediaP)"
   ]
  },
  {
   "cell_type": "code",
   "execution_count": 5,
   "id": "cf81f333",
   "metadata": {},
   "outputs": [
    {
     "name": "stdout",
     "output_type": "stream",
     "text": [
      "Digite um angulo em graus: 45 \n",
      "\n",
      "Seno:  0.7071067811865476\n",
      "\n",
      "Cosseno:  0.7071067811865476\n",
      "\n",
      "tangente:  0.9999999999999999\n",
      "\n",
      "cossecante:  1.414213562373095\n",
      "\n",
      "secante:  1.414213562373095\n",
      "\n",
      "cotangente:  1.414213562373095\n"
     ]
    }
   ],
   "source": [
    "#-------------------------------------------------\n",
    "\n",
    "#--------------  Algoritmo 42  -------------------\n",
    "\n",
    "#-------------------------------------------------\n",
    "\n",
    "import math \n",
    "\n",
    "angulo = float(input(\"Digite um angulo em graus: \"))\n",
    "\n",
    "rang = (angulo*math.pi)/180\n",
    "\n",
    "print(\"\\nSeno: \", math.sin(rang))\n",
    "print(\"\\nCosseno: \", math.cos(rang))\n",
    "print(\"\\ntangente: \", math.tan(rang))\n",
    "print(\"\\ncossecante: \", 1/math.sin(rang))\n",
    "print(\"\\nsecante: \", 1/math.cos(rang))\n",
    "print(\"\\ncotangente: \", 1/math.cos(rang))"
   ]
  },
  {
   "cell_type": "code",
   "execution_count": 7,
   "id": "d0e3873c",
   "metadata": {},
   "outputs": [
    {
     "name": "stdout",
     "output_type": "stream",
     "text": [
      "Entre com o logaritimando: 2\n",
      "logaritmo:  0.30102999566398114\n"
     ]
    }
   ],
   "source": [
    "#-------------------------------------------------\n",
    "\n",
    "#--------------  Algoritmo 43  -------------------\n",
    "\n",
    "#-------------------------------------------------\n",
    "\n",
    "import math\n",
    "\n",
    "num = int(input(\"Entre com o logaritimando: \"))\n",
    "\n",
    "logaritmo =  math.log(num) /math.log(10)\n",
    "\n",
    "print(\"logaritmo: \", logaritmo)"
   ]
  },
  {
   "cell_type": "code",
   "execution_count": 8,
   "id": "f98205de",
   "metadata": {},
   "outputs": [
    {
     "name": "stdout",
     "output_type": "stream",
     "text": [
      "Entre com o logaritimando: 2\n",
      "Entre com a base: 2\n",
      "logaritmo de 2 na base 2 é:  1.0\n"
     ]
    }
   ],
   "source": [
    "#-------------------------------------------------\n",
    "\n",
    "#--------------  Algoritmo 44  -------------------\n",
    "\n",
    "#-------------------------------------------------\n",
    "\n",
    "import math\n",
    "\n",
    "num = int(input(\"Entre com o logaritimando: \"))\n",
    "\n",
    "base = int(input(\"Entre com a base: \"))\n",
    "\n",
    "logaritmo = math.log(num) / math.log(base)\n",
    "\n",
    "print(\"logaritmo de\", num, \"na base\", base, \"é: \", logaritmo)"
   ]
  }
 ],
 "metadata": {
  "kernelspec": {
   "display_name": "Python 3 (ipykernel)",
   "language": "python",
   "name": "python3"
  },
  "language_info": {
   "codemirror_mode": {
    "name": "ipython",
    "version": 3
   },
   "file_extension": ".py",
   "mimetype": "text/x-python",
   "name": "python",
   "nbconvert_exporter": "python",
   "pygments_lexer": "ipython3",
   "version": "3.9.7"
  }
 },
 "nbformat": 4,
 "nbformat_minor": 5
}
